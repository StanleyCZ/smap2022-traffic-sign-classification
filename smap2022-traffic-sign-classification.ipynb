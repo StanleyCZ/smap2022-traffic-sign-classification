{
 "cells": [
  {
   "cell_type": "code",
   "execution_count": 1,
   "id": "38eef094",
   "metadata": {
    "_cell_guid": "b1076dfc-b9ad-4769-8c92-a6c4dae69d19",
    "_uuid": "8f2839f25d086af736a60e9eeb907d3b93b6e0e5",
    "execution": {
     "iopub.execute_input": "2022-12-06T19:04:04.621680Z",
     "iopub.status.busy": "2022-12-06T19:04:04.621134Z",
     "iopub.status.idle": "2022-12-06T19:07:22.940112Z",
     "shell.execute_reply": "2022-12-06T19:07:22.939258Z"
    },
    "papermill": {
     "duration": 198.330611,
     "end_time": "2022-12-06T19:07:22.946514",
     "exception": false,
     "start_time": "2022-12-06T19:04:04.615903",
     "status": "completed"
    },
    "tags": []
   },
   "outputs": [
    {
     "name": "stdout",
     "output_type": "stream",
     "text": [
      "43\n"
     ]
    }
   ],
   "source": [
    "import numpy as np # linear algebra\n",
    "import pandas as pd # data processing, CSV file I/O (e.g. pd.read_csv)\n",
    "import os\n",
    "import cv2 as cv\n",
    "from keras.preprocessing import image\n",
    "import tensorflow\n",
    "\n",
    "\n",
    "trainPath = '/kaggle/input/gtsrb-german-traffic-sign/Train'\n",
    "\n",
    "data=[]\n",
    "labels=[]\n",
    "dataset_category_count = 0\n",
    "for dirs in os.listdir(trainPath): #slozky z Train foldery\n",
    "    #print(dirs)\n",
    "    for files in os.listdir(trainPath+'/'+ dirs): #obrazek z foldery v kategorii\n",
    "        try:\n",
    "            sign_img = np.array(image.load_img(trainPath + \"/\"+ dirs +\"/\"+ files, target_size = (32,32)))\n",
    "            data.append(sign_img) #do seznamu s obrazkovymi daty prida aktualne zpracovany/nacteny obrazek\n",
    "            labels.append(int(dirs)) #do seznamu s labely prida cislo labelu ve kterem se obrazek nachazi\n",
    "        except:\n",
    "            pass\n",
    "    dataset_category_count += 1\n",
    "print(str(dataset_category_count))    "
   ]
  },
  {
   "cell_type": "code",
   "execution_count": 2,
   "id": "0724eadb",
   "metadata": {
    "execution": {
     "iopub.execute_input": "2022-12-06T19:07:22.954234Z",
     "iopub.status.busy": "2022-12-06T19:07:22.953088Z",
     "iopub.status.idle": "2022-12-06T19:07:22.967491Z",
     "shell.execute_reply": "2022-12-06T19:07:22.966557Z"
    },
    "papermill": {
     "duration": 0.020223,
     "end_time": "2022-12-06T19:07:22.969879",
     "exception": false,
     "start_time": "2022-12-06T19:07:22.949656",
     "status": "completed"
    },
    "tags": []
   },
   "outputs": [
    {
     "name": "stdout",
     "output_type": "stream",
     "text": [
      "39209 39209\n"
     ]
    },
    {
     "data": {
      "text/plain": [
       "'Speed limit (20km/h)'"
      ]
     },
     "execution_count": 2,
     "metadata": {},
     "output_type": "execute_result"
    }
   ],
   "source": [
    "print(len(data),len(labels))\n",
    "#popisky obrazku\n",
    "category_labels = {\n",
    "    0:\"Speed limit (20km/h)\",\n",
    "    1:\"Speed limit (30km/h)\",\n",
    "    2:\"Speed limit (50km/h)\",\n",
    "    3:\"Speed limit (60km/h)\",\n",
    "    4:\"Speed limit (70km/h)\",\n",
    "    5:\"Speed limit (80km/h)\",\n",
    "    6:\"End of speed limit (80km/h)\",\n",
    "    7:\"Speed limit (100km/h)\",\n",
    "    8:\"Speed limit (120km/h)\",\n",
    "    9:\"No passing\",\n",
    "    10:\"No passing for vehicles over 3.5 metric tons\",\n",
    "    11:\"Right-of-way at the next intersection\",\n",
    "    12:\"Priority road\",\n",
    "    13:\"Yield\",\n",
    "    14:\"Stop\",\n",
    "    15:\"No vehicles\",\n",
    "    16:\"Vehicles over 3.5 metric tons prohibited\",\n",
    "    17:\"No entry\",\n",
    "    18:\"General caution\",\n",
    "    19:\"Dangerous curve to the left\",\n",
    "    20:\"Dangerous curve to the right\",\n",
    "    21:\"Double curve\",\n",
    "    22:\"Bumpy road\",\n",
    "    23:\"Slippery road\",\n",
    "    24:\"Road narrows on the right\",\n",
    "    25:\"Road work\",\n",
    "    26:\"Traffic signals\",\n",
    "    27:\"Pedestrians\",\n",
    "    28:\"Children crossing\",\n",
    "    29:\"Bicycles crossing\",\n",
    "    30:\"Beware of ice/snow\",\n",
    "    31:\"Wild animals crossing\",\n",
    "    32:\"End of all speed and passing limits\",\n",
    "    33:\"Turn right ahead\",\n",
    "    34:\"Turn left ahead\",\n",
    "    35:\"Ahead only\",\n",
    "    36:\"Go straight or right\",\n",
    "    37:\"Go straight or left\",\n",
    "    38:\"Keep right\",\n",
    "    39:\"Keep left\",\n",
    "    40:\"Roudabout mandatory\",\n",
    "    41:\"End of no passing\",\n",
    "    42:\"End of no passing by vehicles over 3.5 metric tons\",\n",
    "}\n",
    "category_labels[0]\n"
   ]
  },
  {
   "cell_type": "code",
   "execution_count": 3,
   "id": "64a4a756",
   "metadata": {
    "execution": {
     "iopub.execute_input": "2022-12-06T19:07:22.976525Z",
     "iopub.status.busy": "2022-12-06T19:07:22.975405Z",
     "iopub.status.idle": "2022-12-06T19:07:23.588742Z",
     "shell.execute_reply": "2022-12-06T19:07:23.587905Z"
    },
    "papermill": {
     "duration": 0.618926,
     "end_time": "2022-12-06T19:07:23.590971",
     "exception": false,
     "start_time": "2022-12-06T19:07:22.972045",
     "status": "completed"
    },
    "tags": []
   },
   "outputs": [
    {
     "name": "stdout",
     "output_type": "stream",
     "text": [
      "4887\n"
     ]
    },
    {
     "data": {
      "image/png": "[encoded data removed]",
      "text/plain": [
       "<Figure size 432x288 with 1 Axes>"
      ]
     },
     "metadata": {
      "needs_background": "light"
     },
     "output_type": "display_data"
    },
    {
     "name": "stdout",
     "output_type": "stream",
     "text": [
      "1178\n"
     ]
    },
    {
     "data": {
      "image/png": "[encoded data removed]",
      "text/plain": [
       "<Figure size 432x288 with 1 Axes>"
      ]
     },
     "metadata": {
      "needs_background": "light"
     },
     "output_type": "display_data"
    },
    {
     "name": "stdout",
     "output_type": "stream",
     "text": [
      "11829\n"
     ]
    },
    {
     "data": {
      "image/png": "[encoded data removed]",
      "text/plain": [
       "<Figure size 432x288 with 1 Axes>"
      ]
     },
     "metadata": {
      "needs_background": "light"
     },
     "output_type": "display_data"
    }
   ],
   "source": [
    "import matplotlib.pyplot as plt\n",
    "import random\n",
    "\n",
    "for i in range(3):\n",
    "    rnd = random.randint(0,len(data))\n",
    "    print(str(rnd))\n",
    "    preview = plt.imshow(data[rnd])\n",
    "    preview_title = plt.title(category_labels[labels[rnd]])\n",
    "    plt.show()\n",
    " "
   ]
  }
 ],
 "metadata": {
  "kernelspec": {
   "display_name": "Python 3",
   "language": "python",
   "name": "python3"
  },
  "language_info": {
   "codemirror_mode": {
    "name": "ipython",
    "version": 3
   },
   "file_extension": ".py",
   "mimetype": "text/x-python",
   "name": "python",
   "nbconvert_exporter": "python",
   "pygments_lexer": "ipython3",
   "version": "3.7.12"
  },
  "papermill": {
   "default_parameters": {},
   "duration": 211.379616,
   "end_time": "2022-12-06T19:07:27.112323",
   "environment_variables": {},
   "exception": null,
   "input_path": "__notebook__.ipynb",
   "output_path": "__notebook__.ipynb",
   "parameters": {},
   "start_time": "2022-12-06T19:03:55.732707",
   "version": "2.3.4"
  }
 },
 "nbformat": 4,
 "nbformat_minor": 5
}
